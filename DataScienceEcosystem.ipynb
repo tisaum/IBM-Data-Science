{
 "cells": [
  {
   "cell_type": "markdown",
   "id": "f907aaaa-3036-4a0b-b6e2-0c76a0b6914c",
   "metadata": {},
   "source": [
    "# Data Science Tools and Ecosystem"
   ]
  },
  {
   "cell_type": "markdown",
   "id": "d240a571-ce7e-45b7-b51e-1f6f3f4b3d40",
   "metadata": {},
   "source": [
    "In this notebook, Data Science Tools and Ecosystem are summarized."
   ]
  },
  {
   "cell_type": "markdown",
   "id": "753c1d2c-7b1d-4d54-9309-95e120ec2a37",
   "metadata": {},
   "source": [
    "Some of the popular languages that Data Scientists use are:\n",
    "1. Python\n",
    "2. R\n",
    "3. SQL\n",
    "4. Julia"
   ]
  },
  {
   "cell_type": "markdown",
   "id": "ac2847b9-71dc-4975-96c7-7f51aca27ef7",
   "metadata": {},
   "source": [
    "Some of the commonly used libraries used by Data Scientists include:\n",
    "1. Pandas\n",
    "2. NumPy\n",
    "3. ggplot2\n",
    "4. TensorFlow"
   ]
  },
  {
   "cell_type": "markdown",
   "id": "3768faa7-051d-45fa-aab9-56e48cfe798d",
   "metadata": {},
   "source": [
    "| Data Science Tools     |\n",
    "|------------------------|\n",
    "| Jupyter Notebook       |\n",
    "| RStudio                |\n",
    "| Apache Zeppelin        |\n"
   ]
  },
  {
   "cell_type": "markdown",
   "id": "5447a1f3-dc3d-47fd-9c95-5be31aec2818",
   "metadata": {},
   "source": [
    "### Below are a few examples of evaluating arithmetic expressions in Python.\n"
   ]
  },
  {
   "cell_type": "code",
   "execution_count": 5,
   "id": "f20e1968-6b35-4d5b-8ea5-a5d916f81b81",
   "metadata": {},
   "outputs": [
    {
     "data": {
      "text/plain": [
       "17"
      ]
     },
     "execution_count": 5,
     "metadata": {},
     "output_type": "execute_result"
    }
   ],
   "source": [
    "# This is a simple arithmetic expression to multiply then add integers.\n",
    "result = (3 * 4) + 5\n",
    "result"
   ]
  },
  {
   "cell_type": "code",
   "execution_count": 7,
   "id": "0176f45a-0437-4832-be63-4a290e5476f0",
   "metadata": {},
   "outputs": [
    {
     "data": {
      "text/plain": [
       "3.3333333333333335"
      ]
     },
     "execution_count": 7,
     "metadata": {},
     "output_type": "execute_result"
    }
   ],
   "source": [
    "# This will convert 200 minutes to hours by dividing by 60.\n",
    "minutes = 200\n",
    "hours = minutes / 60\n",
    "hours"
   ]
  },
  {
   "cell_type": "markdown",
   "id": "4cc4c6df-3567-47fb-817c-cb7b5669637c",
   "metadata": {},
   "source": [
    "**Objectives:**\n",
    "\n",
    "- List popular languages for Data Science.\n",
    "- Create and render tables using Markdown.\n",
    "- Evaluate arithmetic expressions in Python.\n",
    "- Demonstrate basic arithmetic operations.\n",
    "- Understand the structure and purpose of a Jupyter Notebook."
   ]
  },
  {
   "cell_type": "markdown",
   "id": "11afbd05-e051-4cda-8bdc-1ffdf5ddeb71",
   "metadata": {},
   "source": [
    "## Author\n",
    "\n",
    "Om Dhumal"
   ]
  },
  {
   "cell_type": "code",
   "execution_count": null,
   "id": "ba897071-d89b-411c-83eb-a35bbdfb86a0",
   "metadata": {},
   "outputs": [],
   "source": []
  }
 ],
 "metadata": {
  "kernelspec": {
   "display_name": "Python 3 (ipykernel)",
   "language": "python",
   "name": "python3"
  },
  "language_info": {
   "codemirror_mode": {
    "name": "ipython",
    "version": 3
   },
   "file_extension": ".py",
   "mimetype": "text/x-python",
   "name": "python",
   "nbconvert_exporter": "python",
   "pygments_lexer": "ipython3",
   "version": "3.11.9"
  }
 },
 "nbformat": 4,
 "nbformat_minor": 5
}
